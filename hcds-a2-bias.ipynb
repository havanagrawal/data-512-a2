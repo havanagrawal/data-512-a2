{
 "cells": [
  {
   "cell_type": "markdown",
   "metadata": {},
   "source": [
    "# A2: Bias In Data"
   ]
  },
  {
   "cell_type": "markdown",
   "metadata": {},
   "source": [
    "The goal of this repository is to explore the concept of bias through data on Wikipedia articles - specifically, articles on political figures from a variety of countries"
   ]
  },
  {
   "cell_type": "markdown",
   "metadata": {},
   "source": [
    "#### Table of Contents\n",
    "\n",
    "  1. [Data Acquisition](#acquisition)\n",
    "  2. [Data Cleaning and Processing](#cleaning)\n",
    "  3. [Analysis and Results](#analysis)"
   ]
  },
  {
   "cell_type": "code",
   "execution_count": 1,
   "metadata": {
    "ExecuteTime": {
     "end_time": "2018-10-26T19:07:35.954864Z",
     "start_time": "2018-10-26T19:07:35.223789Z"
    }
   },
   "outputs": [],
   "source": [
    "import os\n",
    "import json\n",
    "\n",
    "import requests\n",
    "\n",
    "import pandas as pd\n",
    "\n",
    "from tqdm import tqdm_notebook as tqdm"
   ]
  },
  {
   "cell_type": "markdown",
   "metadata": {},
   "source": [
    "<a id=\"acquisition\"></a>"
   ]
  },
  {
   "cell_type": "markdown",
   "metadata": {},
   "source": [
    "## Data Acquisition"
   ]
  },
  {
   "cell_type": "markdown",
   "metadata": {},
   "source": [
    "We use two local data sources:\n",
    "  1. The Wikipedia English article dataset under the \"Category: Politicians by nationality\" category\n",
    "  2. The population dataset"
   ]
  },
  {
   "cell_type": "code",
   "execution_count": 2,
   "metadata": {
    "ExecuteTime": {
     "end_time": "2018-10-26T19:07:36.012258Z",
     "start_time": "2018-10-26T19:07:35.957707Z"
    }
   },
   "outputs": [],
   "source": [
    "wiki_articles_df = pd.read_csv(\"./data/page_data.csv\")\n",
    "population_df = pd.read_csv(\"./data/wikipedia_population_2018_data.csv\")"
   ]
  },
  {
   "cell_type": "code",
   "execution_count": 3,
   "metadata": {
    "ExecuteTime": {
     "end_time": "2018-10-26T19:07:36.040746Z",
     "start_time": "2018-10-26T19:07:36.014332Z"
    }
   },
   "outputs": [
    {
     "data": {
      "text/html": [
       "<div>\n",
       "<style scoped>\n",
       "    .dataframe tbody tr th:only-of-type {\n",
       "        vertical-align: middle;\n",
       "    }\n",
       "\n",
       "    .dataframe tbody tr th {\n",
       "        vertical-align: top;\n",
       "    }\n",
       "\n",
       "    .dataframe thead th {\n",
       "        text-align: right;\n",
       "    }\n",
       "</style>\n",
       "<table border=\"1\" class=\"dataframe\">\n",
       "  <thead>\n",
       "    <tr style=\"text-align: right;\">\n",
       "      <th></th>\n",
       "      <th>page</th>\n",
       "      <th>country</th>\n",
       "      <th>rev_id</th>\n",
       "    </tr>\n",
       "  </thead>\n",
       "  <tbody>\n",
       "    <tr>\n",
       "      <th>0</th>\n",
       "      <td>Template:ZambiaProvincialMinisters</td>\n",
       "      <td>Zambia</td>\n",
       "      <td>235107991</td>\n",
       "    </tr>\n",
       "    <tr>\n",
       "      <th>1</th>\n",
       "      <td>Bir I of Kanem</td>\n",
       "      <td>Chad</td>\n",
       "      <td>355319463</td>\n",
       "    </tr>\n",
       "  </tbody>\n",
       "</table>\n",
       "</div>"
      ],
      "text/plain": [
       "                                 page country     rev_id\n",
       "0  Template:ZambiaProvincialMinisters  Zambia  235107991\n",
       "1                      Bir I of Kanem    Chad  355319463"
      ]
     },
     "execution_count": 3,
     "metadata": {},
     "output_type": "execute_result"
    }
   ],
   "source": [
    "wiki_articles_df.head(2)"
   ]
  },
  {
   "cell_type": "code",
   "execution_count": 4,
   "metadata": {
    "ExecuteTime": {
     "end_time": "2018-10-26T19:07:36.059615Z",
     "start_time": "2018-10-26T19:07:36.043150Z"
    }
   },
   "outputs": [
    {
     "data": {
      "text/html": [
       "<div>\n",
       "<style scoped>\n",
       "    .dataframe tbody tr th:only-of-type {\n",
       "        vertical-align: middle;\n",
       "    }\n",
       "\n",
       "    .dataframe tbody tr th {\n",
       "        vertical-align: top;\n",
       "    }\n",
       "\n",
       "    .dataframe thead th {\n",
       "        text-align: right;\n",
       "    }\n",
       "</style>\n",
       "<table border=\"1\" class=\"dataframe\">\n",
       "  <thead>\n",
       "    <tr style=\"text-align: right;\">\n",
       "      <th></th>\n",
       "      <th>Geography</th>\n",
       "      <th>Population mid-2018 (millions)</th>\n",
       "    </tr>\n",
       "  </thead>\n",
       "  <tbody>\n",
       "    <tr>\n",
       "      <th>0</th>\n",
       "      <td>AFRICA</td>\n",
       "      <td>1,284</td>\n",
       "    </tr>\n",
       "    <tr>\n",
       "      <th>1</th>\n",
       "      <td>Algeria</td>\n",
       "      <td>42.7</td>\n",
       "    </tr>\n",
       "  </tbody>\n",
       "</table>\n",
       "</div>"
      ],
      "text/plain": [
       "  Geography Population mid-2018 (millions)\n",
       "0    AFRICA                          1,284\n",
       "1   Algeria                           42.7"
      ]
     },
     "execution_count": 4,
     "metadata": {},
     "output_type": "execute_result"
    }
   ],
   "source": [
    "population_df.head(2)"
   ]
  },
  {
   "cell_type": "markdown",
   "metadata": {},
   "source": [
    "Rename the columns, and make the population count more explicit"
   ]
  },
  {
   "cell_type": "code",
   "execution_count": 5,
   "metadata": {
    "ExecuteTime": {
     "end_time": "2018-10-26T19:07:36.210326Z",
     "start_time": "2018-10-26T19:07:36.061887Z"
    }
   },
   "outputs": [
    {
     "data": {
      "text/html": [
       "<div>\n",
       "<style scoped>\n",
       "    .dataframe tbody tr th:only-of-type {\n",
       "        vertical-align: middle;\n",
       "    }\n",
       "\n",
       "    .dataframe tbody tr th {\n",
       "        vertical-align: top;\n",
       "    }\n",
       "\n",
       "    .dataframe thead th {\n",
       "        text-align: right;\n",
       "    }\n",
       "</style>\n",
       "<table border=\"1\" class=\"dataframe\">\n",
       "  <thead>\n",
       "    <tr style=\"text-align: right;\">\n",
       "      <th></th>\n",
       "      <th>country</th>\n",
       "      <th>population</th>\n",
       "    </tr>\n",
       "  </thead>\n",
       "  <tbody>\n",
       "    <tr>\n",
       "      <th>0</th>\n",
       "      <td>AFRICA</td>\n",
       "      <td>1.284000e+09</td>\n",
       "    </tr>\n",
       "    <tr>\n",
       "      <th>1</th>\n",
       "      <td>Algeria</td>\n",
       "      <td>4.270000e+07</td>\n",
       "    </tr>\n",
       "    <tr>\n",
       "      <th>2</th>\n",
       "      <td>Egypt</td>\n",
       "      <td>9.700000e+07</td>\n",
       "    </tr>\n",
       "    <tr>\n",
       "      <th>3</th>\n",
       "      <td>Libya</td>\n",
       "      <td>6.500000e+06</td>\n",
       "    </tr>\n",
       "    <tr>\n",
       "      <th>4</th>\n",
       "      <td>Morocco</td>\n",
       "      <td>3.520000e+07</td>\n",
       "    </tr>\n",
       "  </tbody>\n",
       "</table>\n",
       "</div>"
      ],
      "text/plain": [
       "   country    population\n",
       "0   AFRICA  1.284000e+09\n",
       "1  Algeria  4.270000e+07\n",
       "2    Egypt  9.700000e+07\n",
       "3    Libya  6.500000e+06\n",
       "4  Morocco  3.520000e+07"
      ]
     },
     "execution_count": 5,
     "metadata": {},
     "output_type": "execute_result"
    }
   ],
   "source": [
    "population_df.columns = ['country', 'population']\n",
    "population_df[\"population\"] = population_df[\"population\"].apply(lambda s: s.replace(\",\", \"\")).apply(float)*1000000\n",
    "population_df.head()"
   ]
  },
  {
   "cell_type": "markdown",
   "metadata": {},
   "source": [
    "### Retrieving Article Quality\n",
    "\n",
    "We also need to generate the quality of each article, for which we use the [ORES API](https://www.mediawiki.org/wiki/ORES)\n",
    "\n",
    "This API returns a prediction which is one of the following categories:\n",
    "\n",
    "  1. FA - Featured article\n",
    "  2. GA - Good article\n",
    "  3. B - B-class article\n",
    "  4. C - C-class article\n",
    "  5. Start - Start-class article\n",
    "  6. Stub - Stub-class article"
   ]
  },
  {
   "cell_type": "markdown",
   "metadata": {},
   "source": [
    "The following code is inspired from the [A2 reference notebook](https://github.com/Ironholds/data-512-a2/blob/master/hcds-a2-bias_demo.ipynb)"
   ]
  },
  {
   "cell_type": "code",
   "execution_count": 6,
   "metadata": {
    "ExecuteTime": {
     "end_time": "2018-10-26T19:07:36.228342Z",
     "start_time": "2018-10-26T19:07:36.212775Z"
    }
   },
   "outputs": [],
   "source": [
    "HEADERS = {'User-Agent': 'https://github.com/havanagrawal', 'From': 'agrawh@uw.edu'}\n",
    "\n",
    "def get_ores_data(revision_ids, headers=HEADERS):\n",
    "    # Define the endpoint\n",
    "    endpoint = 'https://ores.wikimedia.org/v3/scores/{project}/?models={model}&revids={revids}'\n",
    " \n",
    "    params = {\n",
    "        'project': 'enwiki',\n",
    "        'model': 'wp10',\n",
    "        'revids': '|'.join(str(x) for x in revision_ids)\n",
    "    }\n",
    "    json_response = requests.get(endpoint.format(**params)).json()\n",
    "    quality_predictions = []\n",
    "    \n",
    "    # Unpack predictions according to the response structure, which can be found in the reference notebook\n",
    "    for key, value in json_response[\"enwiki\"][\"scores\"].items():\n",
    "        result_dict = value[\"wp10\"]\n",
    "        if \"error\" not in result_dict:\n",
    "            prediction = {\n",
    "                'rev_id': int(key),\n",
    "                'prediction': result_dict[\"score\"][\"prediction\"]\n",
    "            }\n",
    "            quality_predictions.append(prediction)\n",
    "    \n",
    "    return quality_predictions"
   ]
  },
  {
   "cell_type": "markdown",
   "metadata": {},
   "source": [
    "In order to minimize the number of calls to the API, we can group revision ids into chunks of 50-100, and then call the API once for each group"
   ]
  },
  {
   "cell_type": "markdown",
   "metadata": {},
   "source": [
    "To enable this, we use a quick recipe to iterate n items at a time from a collection"
   ]
  },
  {
   "cell_type": "code",
   "execution_count": 7,
   "metadata": {
    "ExecuteTime": {
     "end_time": "2018-10-26T19:07:36.234036Z",
     "start_time": "2018-10-26T19:07:36.230025Z"
    }
   },
   "outputs": [],
   "source": [
    "def grouper(lst, n):\n",
    "    \"\"\"Collect data into fixed-length chunks or blocks\n",
    "    \n",
    "    >>> grouper('ABCDEFG', 3)\n",
    "    \"ABC DEF G\"\n",
    "    \"\"\"\n",
    "    for i in range(0, len(lst), n):\n",
    "        yield lst[i:i + n]"
   ]
  },
  {
   "cell_type": "markdown",
   "metadata": {},
   "source": [
    "If you already have the `article_quality.csv` file, then you need not retrieve predictions from ORES, since it can take up to 20 minutes, depending on your internet speed."
   ]
  },
  {
   "cell_type": "code",
   "execution_count": 8,
   "metadata": {
    "ExecuteTime": {
     "end_time": "2018-10-26T19:07:36.249604Z",
     "start_time": "2018-10-26T19:07:36.235760Z"
    }
   },
   "outputs": [
    {
     "data": {
      "text/plain": [
       "False"
      ]
     },
     "execution_count": 8,
     "metadata": {},
     "output_type": "execute_result"
    }
   ],
   "source": [
    "QUALITY_PREDICTION_FILEPATH = \"./data/article_quality.csv\"\n",
    "DOWNLOAD_PREDICTIONS = not os.path.exists(QUALITY_PREDICTION_FILEPATH)\n",
    "DOWNLOAD_PREDICTIONS"
   ]
  },
  {
   "cell_type": "markdown",
   "metadata": {},
   "source": [
    "Retrieve and concatenate all JSON results into a single pandas DataFrame, and save it, if the output file doesn't already exist"
   ]
  },
  {
   "cell_type": "code",
   "execution_count": 9,
   "metadata": {
    "ExecuteTime": {
     "end_time": "2018-10-26T19:07:36.291348Z",
     "start_time": "2018-10-26T19:07:36.251977Z"
    }
   },
   "outputs": [],
   "source": [
    "if DOWNLOAD_PREDICTIONS:\n",
    "    revision_ids = wiki_articles_df.rev_id.tolist()\n",
    "    \n",
    "    # Group revision IDs into chunks of 100\n",
    "    grouped_ids = list(grouper(revision_ids, 100))\n",
    "    \n",
    "    # Get the article predictions from ORES in JSON format\n",
    "    article_quality_json_data = [get_ores_data(subset) for subset in tqdm(grouped_ids)]\n",
    "    \n",
    "    # Convert the JSON data into DataFrames\n",
    "    temp_dfs = [pd.DataFrame.from_records(json_subset) for json_subset in article_quality_json_data]\n",
    "    \n",
    "    # Concatenate and save the DataFrames\n",
    "    article_quality_df = pd.concat(temp_dfs)\n",
    "    article_quality_df.to_csv(QUALITY_PREDICTION_FILEPATH, index=False)\n",
    "else:\n",
    "    article_quality_df = pd.read_csv(QUALITY_PREDICTION_FILEPATH)"
   ]
  },
  {
   "cell_type": "code",
   "execution_count": 10,
   "metadata": {
    "ExecuteTime": {
     "end_time": "2018-10-26T19:07:36.308404Z",
     "start_time": "2018-10-26T19:07:36.294525Z"
    }
   },
   "outputs": [
    {
     "data": {
      "text/html": [
       "<div>\n",
       "<style scoped>\n",
       "    .dataframe tbody tr th:only-of-type {\n",
       "        vertical-align: middle;\n",
       "    }\n",
       "\n",
       "    .dataframe tbody tr th {\n",
       "        vertical-align: top;\n",
       "    }\n",
       "\n",
       "    .dataframe thead th {\n",
       "        text-align: right;\n",
       "    }\n",
       "</style>\n",
       "<table border=\"1\" class=\"dataframe\">\n",
       "  <thead>\n",
       "    <tr style=\"text-align: right;\">\n",
       "      <th></th>\n",
       "      <th>prediction</th>\n",
       "      <th>rev_id</th>\n",
       "    </tr>\n",
       "  </thead>\n",
       "  <tbody>\n",
       "    <tr>\n",
       "      <th>0</th>\n",
       "      <td>Stub</td>\n",
       "      <td>355319463</td>\n",
       "    </tr>\n",
       "    <tr>\n",
       "      <th>1</th>\n",
       "      <td>Stub</td>\n",
       "      <td>391862046</td>\n",
       "    </tr>\n",
       "  </tbody>\n",
       "</table>\n",
       "</div>"
      ],
      "text/plain": [
       "  prediction     rev_id\n",
       "0       Stub  355319463\n",
       "1       Stub  391862046"
      ]
     },
     "execution_count": 10,
     "metadata": {},
     "output_type": "execute_result"
    }
   ],
   "source": [
    "article_quality_df.head(2)"
   ]
  },
  {
   "cell_type": "markdown",
   "metadata": {},
   "source": [
    "<a id=\"cleaning\"></a>"
   ]
  },
  {
   "cell_type": "markdown",
   "metadata": {},
   "source": [
    "## Data Processing and Cleaning"
   ]
  },
  {
   "cell_type": "markdown",
   "metadata": {},
   "source": [
    "We want to find and report:\n",
    "  1. 10 highest-ranked countries in terms of number of politician articles as a proportion of country population\n",
    "  2. 10 lowest-ranked countries in terms of number of politician articles as a proportion of country population\n",
    "  3. 10 highest-ranked countries in terms of number of GA and FA-quality articles as a proportion of all articles about politicians from that country\n",
    "  4. 10 lowest-ranked countries in terms of number of GA and FA-quality articles as a proportion of all articles about politicians from that country"
   ]
  },
  {
   "cell_type": "markdown",
   "metadata": {},
   "source": [
    "To achieve this, we need to merge the quality prediction with the original dataset. This may lead to some data loss since not all revisions will have a prediction"
   ]
  },
  {
   "cell_type": "code",
   "execution_count": 11,
   "metadata": {
    "ExecuteTime": {
     "end_time": "2018-10-26T19:07:36.333868Z",
     "start_time": "2018-10-26T19:07:36.310196Z"
    }
   },
   "outputs": [
    {
     "name": "stdout",
     "output_type": "stream",
     "text": [
      "DataFrame Shape Before Merging\t (47197, 3)\n",
      "DataFrame Shape After Merging\t (47092, 4)\n"
     ]
    }
   ],
   "source": [
    "print(\"DataFrame Shape Before Merging\\t\", wiki_articles_df.shape)\n",
    "\n",
    "wiki_articles_df = wiki_articles_df.merge(article_quality_df, on='rev_id')\n",
    "\n",
    "print(\"DataFrame Shape After Merging\\t\", wiki_articles_df.shape)"
   ]
  },
  {
   "cell_type": "markdown",
   "metadata": {},
   "source": [
    "We can now perform a group by country, and count\n",
    " 1. The total number of articles \n",
    " 2. The total number of high-quality articles\n",
    " \n",
    "where high quality is defined as a prediction of either \"FA\" or \"GA\""
   ]
  },
  {
   "cell_type": "code",
   "execution_count": 12,
   "metadata": {
    "ExecuteTime": {
     "end_time": "2018-10-26T19:07:36.339083Z",
     "start_time": "2018-10-26T19:07:36.335965Z"
    }
   },
   "outputs": [],
   "source": [
    "def is_high_quality(s):\n",
    "    return s == \"FA\" or s == \"GA\""
   ]
  },
  {
   "cell_type": "code",
   "execution_count": 13,
   "metadata": {
    "ExecuteTime": {
     "end_time": "2018-10-26T19:07:36.361761Z",
     "start_time": "2018-10-26T19:07:36.340960Z"
    }
   },
   "outputs": [],
   "source": [
    "high_quality_only = wiki_articles_df[wiki_articles_df.prediction.apply(is_high_quality)]"
   ]
  },
  {
   "cell_type": "markdown",
   "metadata": {},
   "source": [
    "Counting the total number of articles by country:"
   ]
  },
  {
   "cell_type": "code",
   "execution_count": 14,
   "metadata": {
    "ExecuteTime": {
     "end_time": "2018-10-26T19:07:36.390002Z",
     "start_time": "2018-10-26T19:07:36.364002Z"
    }
   },
   "outputs": [
    {
     "data": {
      "text/html": [
       "<div>\n",
       "<style scoped>\n",
       "    .dataframe tbody tr th:only-of-type {\n",
       "        vertical-align: middle;\n",
       "    }\n",
       "\n",
       "    .dataframe tbody tr th {\n",
       "        vertical-align: top;\n",
       "    }\n",
       "\n",
       "    .dataframe thead th {\n",
       "        text-align: right;\n",
       "    }\n",
       "</style>\n",
       "<table border=\"1\" class=\"dataframe\">\n",
       "  <thead>\n",
       "    <tr style=\"text-align: right;\">\n",
       "      <th></th>\n",
       "      <th>country</th>\n",
       "      <th>all_article_counts</th>\n",
       "    </tr>\n",
       "  </thead>\n",
       "  <tbody>\n",
       "    <tr>\n",
       "      <th>0</th>\n",
       "      <td>Abkhazia</td>\n",
       "      <td>16</td>\n",
       "    </tr>\n",
       "    <tr>\n",
       "      <th>1</th>\n",
       "      <td>Afghanistan</td>\n",
       "      <td>326</td>\n",
       "    </tr>\n",
       "    <tr>\n",
       "      <th>2</th>\n",
       "      <td>Albania</td>\n",
       "      <td>460</td>\n",
       "    </tr>\n",
       "    <tr>\n",
       "      <th>3</th>\n",
       "      <td>Algeria</td>\n",
       "      <td>119</td>\n",
       "    </tr>\n",
       "    <tr>\n",
       "      <th>4</th>\n",
       "      <td>Andorra</td>\n",
       "      <td>34</td>\n",
       "    </tr>\n",
       "  </tbody>\n",
       "</table>\n",
       "</div>"
      ],
      "text/plain": [
       "       country  all_article_counts\n",
       "0     Abkhazia                  16\n",
       "1  Afghanistan                 326\n",
       "2      Albania                 460\n",
       "3      Algeria                 119\n",
       "4      Andorra                  34"
      ]
     },
     "execution_count": 14,
     "metadata": {},
     "output_type": "execute_result"
    }
   ],
   "source": [
    "all_article_counts = pd.DataFrame(wiki_articles_df.groupby('country').count()['rev_id'])\n",
    "all_article_counts = all_article_counts.reset_index()\n",
    "all_article_counts.columns = ['country', 'all_article_counts']\n",
    "all_article_counts.head()"
   ]
  },
  {
   "cell_type": "markdown",
   "metadata": {},
   "source": [
    "Similarly, counting the total number of high-quality (HQ) articles by country"
   ]
  },
  {
   "cell_type": "code",
   "execution_count": 15,
   "metadata": {
    "ExecuteTime": {
     "end_time": "2018-10-26T19:07:36.410823Z",
     "start_time": "2018-10-26T19:07:36.393352Z"
    }
   },
   "outputs": [
    {
     "data": {
      "text/html": [
       "<div>\n",
       "<style scoped>\n",
       "    .dataframe tbody tr th:only-of-type {\n",
       "        vertical-align: middle;\n",
       "    }\n",
       "\n",
       "    .dataframe tbody tr th {\n",
       "        vertical-align: top;\n",
       "    }\n",
       "\n",
       "    .dataframe thead th {\n",
       "        text-align: right;\n",
       "    }\n",
       "</style>\n",
       "<table border=\"1\" class=\"dataframe\">\n",
       "  <thead>\n",
       "    <tr style=\"text-align: right;\">\n",
       "      <th></th>\n",
       "      <th>country</th>\n",
       "      <th>hq_article_counts</th>\n",
       "    </tr>\n",
       "  </thead>\n",
       "  <tbody>\n",
       "    <tr>\n",
       "      <th>0</th>\n",
       "      <td>Abkhazia</td>\n",
       "      <td>1</td>\n",
       "    </tr>\n",
       "    <tr>\n",
       "      <th>1</th>\n",
       "      <td>Afghanistan</td>\n",
       "      <td>10</td>\n",
       "    </tr>\n",
       "    <tr>\n",
       "      <th>2</th>\n",
       "      <td>Albania</td>\n",
       "      <td>4</td>\n",
       "    </tr>\n",
       "    <tr>\n",
       "      <th>3</th>\n",
       "      <td>Algeria</td>\n",
       "      <td>2</td>\n",
       "    </tr>\n",
       "    <tr>\n",
       "      <th>4</th>\n",
       "      <td>Argentina</td>\n",
       "      <td>15</td>\n",
       "    </tr>\n",
       "  </tbody>\n",
       "</table>\n",
       "</div>"
      ],
      "text/plain": [
       "       country  hq_article_counts\n",
       "0     Abkhazia                  1\n",
       "1  Afghanistan                 10\n",
       "2      Albania                  4\n",
       "3      Algeria                  2\n",
       "4    Argentina                 15"
      ]
     },
     "execution_count": 15,
     "metadata": {},
     "output_type": "execute_result"
    }
   ],
   "source": [
    "hq_article_counts = pd.DataFrame(high_quality_only.groupby('country').count()['rev_id'])\n",
    "hq_article_counts = hq_article_counts.reset_index()\n",
    "hq_article_counts.columns = ['country', 'hq_article_counts']\n",
    "hq_article_counts.head()"
   ]
  },
  {
   "cell_type": "markdown",
   "metadata": {},
   "source": [
    "We can now perform a three-way merge between the population, all article count and high quality article count datasets:"
   ]
  },
  {
   "cell_type": "code",
   "execution_count": 16,
   "metadata": {
    "ExecuteTime": {
     "end_time": "2018-10-26T19:07:36.429856Z",
     "start_time": "2018-10-26T19:07:36.412727Z"
    }
   },
   "outputs": [
    {
     "data": {
      "text/html": [
       "<div>\n",
       "<style scoped>\n",
       "    .dataframe tbody tr th:only-of-type {\n",
       "        vertical-align: middle;\n",
       "    }\n",
       "\n",
       "    .dataframe tbody tr th {\n",
       "        vertical-align: top;\n",
       "    }\n",
       "\n",
       "    .dataframe thead th {\n",
       "        text-align: right;\n",
       "    }\n",
       "</style>\n",
       "<table border=\"1\" class=\"dataframe\">\n",
       "  <thead>\n",
       "    <tr style=\"text-align: right;\">\n",
       "      <th></th>\n",
       "      <th>country</th>\n",
       "      <th>hq_article_counts</th>\n",
       "      <th>all_article_counts</th>\n",
       "      <th>population</th>\n",
       "    </tr>\n",
       "  </thead>\n",
       "  <tbody>\n",
       "    <tr>\n",
       "      <th>0</th>\n",
       "      <td>Afghanistan</td>\n",
       "      <td>10</td>\n",
       "      <td>326</td>\n",
       "      <td>36500000.0</td>\n",
       "    </tr>\n",
       "    <tr>\n",
       "      <th>1</th>\n",
       "      <td>Albania</td>\n",
       "      <td>4</td>\n",
       "      <td>460</td>\n",
       "      <td>2900000.0</td>\n",
       "    </tr>\n",
       "    <tr>\n",
       "      <th>2</th>\n",
       "      <td>Algeria</td>\n",
       "      <td>2</td>\n",
       "      <td>119</td>\n",
       "      <td>42700000.0</td>\n",
       "    </tr>\n",
       "    <tr>\n",
       "      <th>3</th>\n",
       "      <td>Argentina</td>\n",
       "      <td>15</td>\n",
       "      <td>496</td>\n",
       "      <td>44500000.0</td>\n",
       "    </tr>\n",
       "    <tr>\n",
       "      <th>4</th>\n",
       "      <td>Armenia</td>\n",
       "      <td>5</td>\n",
       "      <td>198</td>\n",
       "      <td>3000000.0</td>\n",
       "    </tr>\n",
       "  </tbody>\n",
       "</table>\n",
       "</div>"
      ],
      "text/plain": [
       "       country  hq_article_counts  all_article_counts  population\n",
       "0  Afghanistan                 10                 326  36500000.0\n",
       "1      Albania                  4                 460   2900000.0\n",
       "2      Algeria                  2                 119  42700000.0\n",
       "3    Argentina                 15                 496  44500000.0\n",
       "4      Armenia                  5                 198   3000000.0"
      ]
     },
     "execution_count": 16,
     "metadata": {},
     "output_type": "execute_result"
    }
   ],
   "source": [
    "temp = pd.merge(hq_article_counts, all_article_counts, on='country')\n",
    "final_df = pd.merge(temp, population_df, on='country')\n",
    "final_df.head()"
   ]
  },
  {
   "cell_type": "markdown",
   "metadata": {},
   "source": [
    "We apply a final transformation to get the articles/population counts"
   ]
  },
  {
   "cell_type": "code",
   "execution_count": 17,
   "metadata": {
    "ExecuteTime": {
     "end_time": "2018-10-26T19:07:36.437435Z",
     "start_time": "2018-10-26T19:07:36.431530Z"
    }
   },
   "outputs": [],
   "source": [
    "final_df[\"hq_articles_per_pop\"] = final_df.hq_article_counts / final_df.population\n",
    "final_df[\"all_articles_per_pop\"] = final_df.all_article_counts / final_df.population"
   ]
  },
  {
   "cell_type": "code",
   "execution_count": 26,
   "metadata": {
    "ExecuteTime": {
     "end_time": "2018-10-26T19:07:51.366087Z",
     "start_time": "2018-10-26T19:07:51.351460Z"
    }
   },
   "outputs": [
    {
     "data": {
      "text/html": [
       "<div>\n",
       "<style scoped>\n",
       "    .dataframe tbody tr th:only-of-type {\n",
       "        vertical-align: middle;\n",
       "    }\n",
       "\n",
       "    .dataframe tbody tr th {\n",
       "        vertical-align: top;\n",
       "    }\n",
       "\n",
       "    .dataframe thead th {\n",
       "        text-align: right;\n",
       "    }\n",
       "</style>\n",
       "<table border=\"1\" class=\"dataframe\">\n",
       "  <thead>\n",
       "    <tr style=\"text-align: right;\">\n",
       "      <th></th>\n",
       "      <th>country</th>\n",
       "      <th>hq_article_counts</th>\n",
       "      <th>all_article_counts</th>\n",
       "      <th>population</th>\n",
       "      <th>hq_articles_per_pop</th>\n",
       "      <th>all_articles_per_pop</th>\n",
       "    </tr>\n",
       "  </thead>\n",
       "  <tbody>\n",
       "    <tr>\n",
       "      <th>117</th>\n",
       "      <td>Spain</td>\n",
       "      <td>34</td>\n",
       "      <td>879</td>\n",
       "      <td>46700000.0</td>\n",
       "      <td>7.280514e-07</td>\n",
       "      <td>0.000019</td>\n",
       "    </tr>\n",
       "    <tr>\n",
       "      <th>19</th>\n",
       "      <td>Burundi</td>\n",
       "      <td>1</td>\n",
       "      <td>76</td>\n",
       "      <td>11800000.0</td>\n",
       "      <td>8.474576e-08</td>\n",
       "      <td>0.000006</td>\n",
       "    </tr>\n",
       "    <tr>\n",
       "      <th>82</th>\n",
       "      <td>Mauritania</td>\n",
       "      <td>5</td>\n",
       "      <td>52</td>\n",
       "      <td>4500000.0</td>\n",
       "      <td>1.111111e-06</td>\n",
       "      <td>0.000012</td>\n",
       "    </tr>\n",
       "    <tr>\n",
       "      <th>97</th>\n",
       "      <td>Panama</td>\n",
       "      <td>5</td>\n",
       "      <td>109</td>\n",
       "      <td>4200000.0</td>\n",
       "      <td>1.190476e-06</td>\n",
       "      <td>0.000026</td>\n",
       "    </tr>\n",
       "    <tr>\n",
       "      <th>56</th>\n",
       "      <td>Iran</td>\n",
       "      <td>11</td>\n",
       "      <td>826</td>\n",
       "      <td>81600000.0</td>\n",
       "      <td>1.348039e-07</td>\n",
       "      <td>0.000010</td>\n",
       "    </tr>\n",
       "  </tbody>\n",
       "</table>\n",
       "</div>"
      ],
      "text/plain": [
       "        country  hq_article_counts  all_article_counts  population  \\\n",
       "117       Spain                 34                 879  46700000.0   \n",
       "19      Burundi                  1                  76  11800000.0   \n",
       "82   Mauritania                  5                  52   4500000.0   \n",
       "97       Panama                  5                 109   4200000.0   \n",
       "56         Iran                 11                 826  81600000.0   \n",
       "\n",
       "     hq_articles_per_pop  all_articles_per_pop  \n",
       "117         7.280514e-07              0.000019  \n",
       "19          8.474576e-08              0.000006  \n",
       "82          1.111111e-06              0.000012  \n",
       "97          1.190476e-06              0.000026  \n",
       "56          1.348039e-07              0.000010  "
      ]
     },
     "execution_count": 26,
     "metadata": {},
     "output_type": "execute_result"
    }
   ],
   "source": [
    "final_df.sample(5, random_state=42)"
   ]
  },
  {
   "cell_type": "markdown",
   "metadata": {},
   "source": [
    "Save the results to a CSV, so that advanced analysis can be performed independently."
   ]
  },
  {
   "cell_type": "code",
   "execution_count": 19,
   "metadata": {
    "ExecuteTime": {
     "end_time": "2018-10-26T19:07:36.474898Z",
     "start_time": "2018-10-26T19:07:36.465076Z"
    }
   },
   "outputs": [],
   "source": [
    "final_df.to_csv(\"./data/article_quality_with_population.csv\", index=False)"
   ]
  },
  {
   "cell_type": "markdown",
   "metadata": {},
   "source": [
    "We can now report the desired metrics"
   ]
  },
  {
   "cell_type": "markdown",
   "metadata": {},
   "source": [
    "<a id=\"analysis\"></a>"
   ]
  },
  {
   "cell_type": "markdown",
   "metadata": {},
   "source": [
    "## Analysis and Results"
   ]
  },
  {
   "cell_type": "markdown",
   "metadata": {},
   "source": [
    "The `.reset_index().drop('index', axis=1)` correctly numbers the rows."
   ]
  },
  {
   "cell_type": "markdown",
   "metadata": {},
   "source": [
    "#### 1. 10 Highest Ranked Countries in terms of number of politician articles as a proportion of country population"
   ]
  },
  {
   "cell_type": "code",
   "execution_count": 20,
   "metadata": {
    "ExecuteTime": {
     "end_time": "2018-10-26T19:07:36.496068Z",
     "start_time": "2018-10-26T19:07:36.477375Z"
    }
   },
   "outputs": [
    {
     "data": {
      "text/html": [
       "<div>\n",
       "<style scoped>\n",
       "    .dataframe tbody tr th:only-of-type {\n",
       "        vertical-align: middle;\n",
       "    }\n",
       "\n",
       "    .dataframe tbody tr th {\n",
       "        vertical-align: top;\n",
       "    }\n",
       "\n",
       "    .dataframe thead th {\n",
       "        text-align: right;\n",
       "    }\n",
       "</style>\n",
       "<table border=\"1\" class=\"dataframe\">\n",
       "  <thead>\n",
       "    <tr style=\"text-align: right;\">\n",
       "      <th></th>\n",
       "      <th>country</th>\n",
       "      <th>hq_article_counts</th>\n",
       "      <th>all_article_counts</th>\n",
       "      <th>population</th>\n",
       "      <th>hq_articles_per_pop</th>\n",
       "      <th>all_articles_per_pop</th>\n",
       "    </tr>\n",
       "  </thead>\n",
       "  <tbody>\n",
       "    <tr>\n",
       "      <th>0</th>\n",
       "      <td>Tuvalu</td>\n",
       "      <td>5</td>\n",
       "      <td>55</td>\n",
       "      <td>10000.0</td>\n",
       "      <td>0.000500</td>\n",
       "      <td>0.005500</td>\n",
       "    </tr>\n",
       "    <tr>\n",
       "      <th>1</th>\n",
       "      <td>Tonga</td>\n",
       "      <td>1</td>\n",
       "      <td>63</td>\n",
       "      <td>100000.0</td>\n",
       "      <td>0.000010</td>\n",
       "      <td>0.000630</td>\n",
       "    </tr>\n",
       "    <tr>\n",
       "      <th>2</th>\n",
       "      <td>Iceland</td>\n",
       "      <td>2</td>\n",
       "      <td>206</td>\n",
       "      <td>400000.0</td>\n",
       "      <td>0.000005</td>\n",
       "      <td>0.000515</td>\n",
       "    </tr>\n",
       "    <tr>\n",
       "      <th>3</th>\n",
       "      <td>Grenada</td>\n",
       "      <td>1</td>\n",
       "      <td>36</td>\n",
       "      <td>100000.0</td>\n",
       "      <td>0.000010</td>\n",
       "      <td>0.000360</td>\n",
       "    </tr>\n",
       "    <tr>\n",
       "      <th>4</th>\n",
       "      <td>Luxembourg</td>\n",
       "      <td>1</td>\n",
       "      <td>180</td>\n",
       "      <td>600000.0</td>\n",
       "      <td>0.000002</td>\n",
       "      <td>0.000300</td>\n",
       "    </tr>\n",
       "    <tr>\n",
       "      <th>5</th>\n",
       "      <td>Fiji</td>\n",
       "      <td>1</td>\n",
       "      <td>199</td>\n",
       "      <td>900000.0</td>\n",
       "      <td>0.000001</td>\n",
       "      <td>0.000221</td>\n",
       "    </tr>\n",
       "    <tr>\n",
       "      <th>6</th>\n",
       "      <td>Maldives</td>\n",
       "      <td>2</td>\n",
       "      <td>84</td>\n",
       "      <td>400000.0</td>\n",
       "      <td>0.000005</td>\n",
       "      <td>0.000210</td>\n",
       "    </tr>\n",
       "    <tr>\n",
       "      <th>7</th>\n",
       "      <td>Vanuatu</td>\n",
       "      <td>3</td>\n",
       "      <td>60</td>\n",
       "      <td>300000.0</td>\n",
       "      <td>0.000010</td>\n",
       "      <td>0.000200</td>\n",
       "    </tr>\n",
       "    <tr>\n",
       "      <th>8</th>\n",
       "      <td>Dominica</td>\n",
       "      <td>1</td>\n",
       "      <td>12</td>\n",
       "      <td>70000.0</td>\n",
       "      <td>0.000014</td>\n",
       "      <td>0.000171</td>\n",
       "    </tr>\n",
       "    <tr>\n",
       "      <th>9</th>\n",
       "      <td>New Zealand</td>\n",
       "      <td>12</td>\n",
       "      <td>790</td>\n",
       "      <td>4900000.0</td>\n",
       "      <td>0.000002</td>\n",
       "      <td>0.000161</td>\n",
       "    </tr>\n",
       "  </tbody>\n",
       "</table>\n",
       "</div>"
      ],
      "text/plain": [
       "       country  hq_article_counts  all_article_counts  population  \\\n",
       "0       Tuvalu                  5                  55     10000.0   \n",
       "1        Tonga                  1                  63    100000.0   \n",
       "2      Iceland                  2                 206    400000.0   \n",
       "3      Grenada                  1                  36    100000.0   \n",
       "4   Luxembourg                  1                 180    600000.0   \n",
       "5         Fiji                  1                 199    900000.0   \n",
       "6     Maldives                  2                  84    400000.0   \n",
       "7      Vanuatu                  3                  60    300000.0   \n",
       "8     Dominica                  1                  12     70000.0   \n",
       "9  New Zealand                 12                 790   4900000.0   \n",
       "\n",
       "   hq_articles_per_pop  all_articles_per_pop  \n",
       "0             0.000500              0.005500  \n",
       "1             0.000010              0.000630  \n",
       "2             0.000005              0.000515  \n",
       "3             0.000010              0.000360  \n",
       "4             0.000002              0.000300  \n",
       "5             0.000001              0.000221  \n",
       "6             0.000005              0.000210  \n",
       "7             0.000010              0.000200  \n",
       "8             0.000014              0.000171  \n",
       "9             0.000002              0.000161  "
      ]
     },
     "execution_count": 20,
     "metadata": {},
     "output_type": "execute_result"
    }
   ],
   "source": [
    "final_df.sort_values(\"all_articles_per_pop\", ascending=False).head(10).reset_index().drop('index', axis=1)"
   ]
  },
  {
   "cell_type": "markdown",
   "metadata": {},
   "source": [
    "#### 2. 10 lowest-ranked countries in terms of number of politician articles as a proportion of country population\n"
   ]
  },
  {
   "cell_type": "code",
   "execution_count": 21,
   "metadata": {
    "ExecuteTime": {
     "end_time": "2018-10-26T19:07:36.538596Z",
     "start_time": "2018-10-26T19:07:36.498903Z"
    }
   },
   "outputs": [
    {
     "data": {
      "text/html": [
       "<div>\n",
       "<style scoped>\n",
       "    .dataframe tbody tr th:only-of-type {\n",
       "        vertical-align: middle;\n",
       "    }\n",
       "\n",
       "    .dataframe tbody tr th {\n",
       "        vertical-align: top;\n",
       "    }\n",
       "\n",
       "    .dataframe thead th {\n",
       "        text-align: right;\n",
       "    }\n",
       "</style>\n",
       "<table border=\"1\" class=\"dataframe\">\n",
       "  <thead>\n",
       "    <tr style=\"text-align: right;\">\n",
       "      <th></th>\n",
       "      <th>country</th>\n",
       "      <th>hq_article_counts</th>\n",
       "      <th>all_article_counts</th>\n",
       "      <th>population</th>\n",
       "      <th>hq_articles_per_pop</th>\n",
       "      <th>all_articles_per_pop</th>\n",
       "    </tr>\n",
       "  </thead>\n",
       "  <tbody>\n",
       "    <tr>\n",
       "      <th>0</th>\n",
       "      <td>India</td>\n",
       "      <td>14</td>\n",
       "      <td>986</td>\n",
       "      <td>1.371300e+09</td>\n",
       "      <td>1.020929e-08</td>\n",
       "      <td>7.190257e-07</td>\n",
       "    </tr>\n",
       "    <tr>\n",
       "      <th>1</th>\n",
       "      <td>Indonesia</td>\n",
       "      <td>8</td>\n",
       "      <td>214</td>\n",
       "      <td>2.652000e+08</td>\n",
       "      <td>3.016591e-08</td>\n",
       "      <td>8.069382e-07</td>\n",
       "    </tr>\n",
       "    <tr>\n",
       "      <th>2</th>\n",
       "      <td>China</td>\n",
       "      <td>33</td>\n",
       "      <td>1135</td>\n",
       "      <td>1.393800e+09</td>\n",
       "      <td>2.367628e-08</td>\n",
       "      <td>8.143206e-07</td>\n",
       "    </tr>\n",
       "    <tr>\n",
       "      <th>3</th>\n",
       "      <td>Uzbekistan</td>\n",
       "      <td>1</td>\n",
       "      <td>29</td>\n",
       "      <td>3.290000e+07</td>\n",
       "      <td>3.039514e-08</td>\n",
       "      <td>8.814590e-07</td>\n",
       "    </tr>\n",
       "    <tr>\n",
       "      <th>4</th>\n",
       "      <td>Ethiopia</td>\n",
       "      <td>1</td>\n",
       "      <td>105</td>\n",
       "      <td>1.075000e+08</td>\n",
       "      <td>9.302326e-09</td>\n",
       "      <td>9.767442e-07</td>\n",
       "    </tr>\n",
       "    <tr>\n",
       "      <th>5</th>\n",
       "      <td>Korea, North</td>\n",
       "      <td>7</td>\n",
       "      <td>39</td>\n",
       "      <td>2.560000e+07</td>\n",
       "      <td>2.734375e-07</td>\n",
       "      <td>1.523437e-06</td>\n",
       "    </tr>\n",
       "    <tr>\n",
       "      <th>6</th>\n",
       "      <td>Thailand</td>\n",
       "      <td>3</td>\n",
       "      <td>112</td>\n",
       "      <td>6.620000e+07</td>\n",
       "      <td>4.531722e-08</td>\n",
       "      <td>1.691843e-06</td>\n",
       "    </tr>\n",
       "    <tr>\n",
       "      <th>7</th>\n",
       "      <td>Bangladesh</td>\n",
       "      <td>3</td>\n",
       "      <td>323</td>\n",
       "      <td>1.664000e+08</td>\n",
       "      <td>1.802885e-08</td>\n",
       "      <td>1.941106e-06</td>\n",
       "    </tr>\n",
       "    <tr>\n",
       "      <th>8</th>\n",
       "      <td>Vietnam</td>\n",
       "      <td>13</td>\n",
       "      <td>191</td>\n",
       "      <td>9.470000e+07</td>\n",
       "      <td>1.372756e-07</td>\n",
       "      <td>2.016895e-06</td>\n",
       "    </tr>\n",
       "    <tr>\n",
       "      <th>9</th>\n",
       "      <td>Sudan</td>\n",
       "      <td>1</td>\n",
       "      <td>98</td>\n",
       "      <td>4.170000e+07</td>\n",
       "      <td>2.398082e-08</td>\n",
       "      <td>2.350120e-06</td>\n",
       "    </tr>\n",
       "  </tbody>\n",
       "</table>\n",
       "</div>"
      ],
      "text/plain": [
       "        country  hq_article_counts  all_article_counts    population  \\\n",
       "0         India                 14                 986  1.371300e+09   \n",
       "1     Indonesia                  8                 214  2.652000e+08   \n",
       "2         China                 33                1135  1.393800e+09   \n",
       "3    Uzbekistan                  1                  29  3.290000e+07   \n",
       "4      Ethiopia                  1                 105  1.075000e+08   \n",
       "5  Korea, North                  7                  39  2.560000e+07   \n",
       "6      Thailand                  3                 112  6.620000e+07   \n",
       "7    Bangladesh                  3                 323  1.664000e+08   \n",
       "8       Vietnam                 13                 191  9.470000e+07   \n",
       "9         Sudan                  1                  98  4.170000e+07   \n",
       "\n",
       "   hq_articles_per_pop  all_articles_per_pop  \n",
       "0         1.020929e-08          7.190257e-07  \n",
       "1         3.016591e-08          8.069382e-07  \n",
       "2         2.367628e-08          8.143206e-07  \n",
       "3         3.039514e-08          8.814590e-07  \n",
       "4         9.302326e-09          9.767442e-07  \n",
       "5         2.734375e-07          1.523437e-06  \n",
       "6         4.531722e-08          1.691843e-06  \n",
       "7         1.802885e-08          1.941106e-06  \n",
       "8         1.372756e-07          2.016895e-06  \n",
       "9         2.398082e-08          2.350120e-06  "
      ]
     },
     "execution_count": 21,
     "metadata": {},
     "output_type": "execute_result"
    }
   ],
   "source": [
    "final_df.sort_values(\"all_articles_per_pop\", ascending=True).head(10).reset_index().drop('index', axis=1)"
   ]
  },
  {
   "cell_type": "markdown",
   "metadata": {},
   "source": [
    "#### 3. 10 highest-ranked countries in terms of number of GA and FA-quality articles as a proportion of all articles about politicians from that country"
   ]
  },
  {
   "cell_type": "code",
   "execution_count": 22,
   "metadata": {
    "ExecuteTime": {
     "end_time": "2018-10-26T19:07:36.565021Z",
     "start_time": "2018-10-26T19:07:36.542692Z"
    }
   },
   "outputs": [
    {
     "data": {
      "text/html": [
       "<div>\n",
       "<style scoped>\n",
       "    .dataframe tbody tr th:only-of-type {\n",
       "        vertical-align: middle;\n",
       "    }\n",
       "\n",
       "    .dataframe tbody tr th {\n",
       "        vertical-align: top;\n",
       "    }\n",
       "\n",
       "    .dataframe thead th {\n",
       "        text-align: right;\n",
       "    }\n",
       "</style>\n",
       "<table border=\"1\" class=\"dataframe\">\n",
       "  <thead>\n",
       "    <tr style=\"text-align: right;\">\n",
       "      <th></th>\n",
       "      <th>country</th>\n",
       "      <th>hq_article_counts</th>\n",
       "      <th>all_article_counts</th>\n",
       "      <th>population</th>\n",
       "      <th>hq_articles_per_pop</th>\n",
       "      <th>all_articles_per_pop</th>\n",
       "    </tr>\n",
       "  </thead>\n",
       "  <tbody>\n",
       "    <tr>\n",
       "      <th>0</th>\n",
       "      <td>Tuvalu</td>\n",
       "      <td>5</td>\n",
       "      <td>55</td>\n",
       "      <td>10000.0</td>\n",
       "      <td>0.000500</td>\n",
       "      <td>0.005500</td>\n",
       "    </tr>\n",
       "    <tr>\n",
       "      <th>1</th>\n",
       "      <td>Dominica</td>\n",
       "      <td>1</td>\n",
       "      <td>12</td>\n",
       "      <td>70000.0</td>\n",
       "      <td>0.000014</td>\n",
       "      <td>0.000171</td>\n",
       "    </tr>\n",
       "    <tr>\n",
       "      <th>2</th>\n",
       "      <td>Vanuatu</td>\n",
       "      <td>3</td>\n",
       "      <td>60</td>\n",
       "      <td>300000.0</td>\n",
       "      <td>0.000010</td>\n",
       "      <td>0.000200</td>\n",
       "    </tr>\n",
       "    <tr>\n",
       "      <th>3</th>\n",
       "      <td>Grenada</td>\n",
       "      <td>1</td>\n",
       "      <td>36</td>\n",
       "      <td>100000.0</td>\n",
       "      <td>0.000010</td>\n",
       "      <td>0.000360</td>\n",
       "    </tr>\n",
       "    <tr>\n",
       "      <th>4</th>\n",
       "      <td>Tonga</td>\n",
       "      <td>1</td>\n",
       "      <td>63</td>\n",
       "      <td>100000.0</td>\n",
       "      <td>0.000010</td>\n",
       "      <td>0.000630</td>\n",
       "    </tr>\n",
       "    <tr>\n",
       "      <th>5</th>\n",
       "      <td>Maldives</td>\n",
       "      <td>2</td>\n",
       "      <td>84</td>\n",
       "      <td>400000.0</td>\n",
       "      <td>0.000005</td>\n",
       "      <td>0.000210</td>\n",
       "    </tr>\n",
       "    <tr>\n",
       "      <th>6</th>\n",
       "      <td>Iceland</td>\n",
       "      <td>2</td>\n",
       "      <td>206</td>\n",
       "      <td>400000.0</td>\n",
       "      <td>0.000005</td>\n",
       "      <td>0.000515</td>\n",
       "    </tr>\n",
       "    <tr>\n",
       "      <th>7</th>\n",
       "      <td>Ireland</td>\n",
       "      <td>24</td>\n",
       "      <td>381</td>\n",
       "      <td>4900000.0</td>\n",
       "      <td>0.000005</td>\n",
       "      <td>0.000078</td>\n",
       "    </tr>\n",
       "    <tr>\n",
       "      <th>8</th>\n",
       "      <td>Bhutan</td>\n",
       "      <td>3</td>\n",
       "      <td>33</td>\n",
       "      <td>800000.0</td>\n",
       "      <td>0.000004</td>\n",
       "      <td>0.000041</td>\n",
       "    </tr>\n",
       "    <tr>\n",
       "      <th>9</th>\n",
       "      <td>Israel</td>\n",
       "      <td>21</td>\n",
       "      <td>497</td>\n",
       "      <td>8500000.0</td>\n",
       "      <td>0.000002</td>\n",
       "      <td>0.000058</td>\n",
       "    </tr>\n",
       "  </tbody>\n",
       "</table>\n",
       "</div>"
      ],
      "text/plain": [
       "    country  hq_article_counts  all_article_counts  population  \\\n",
       "0    Tuvalu                  5                  55     10000.0   \n",
       "1  Dominica                  1                  12     70000.0   \n",
       "2   Vanuatu                  3                  60    300000.0   \n",
       "3   Grenada                  1                  36    100000.0   \n",
       "4     Tonga                  1                  63    100000.0   \n",
       "5  Maldives                  2                  84    400000.0   \n",
       "6   Iceland                  2                 206    400000.0   \n",
       "7   Ireland                 24                 381   4900000.0   \n",
       "8    Bhutan                  3                  33    800000.0   \n",
       "9    Israel                 21                 497   8500000.0   \n",
       "\n",
       "   hq_articles_per_pop  all_articles_per_pop  \n",
       "0             0.000500              0.005500  \n",
       "1             0.000014              0.000171  \n",
       "2             0.000010              0.000200  \n",
       "3             0.000010              0.000360  \n",
       "4             0.000010              0.000630  \n",
       "5             0.000005              0.000210  \n",
       "6             0.000005              0.000515  \n",
       "7             0.000005              0.000078  \n",
       "8             0.000004              0.000041  \n",
       "9             0.000002              0.000058  "
      ]
     },
     "execution_count": 22,
     "metadata": {},
     "output_type": "execute_result"
    }
   ],
   "source": [
    "final_df.sort_values(\"hq_articles_per_pop\", ascending=False).head(10).reset_index().drop('index', axis=1)"
   ]
  },
  {
   "cell_type": "markdown",
   "metadata": {},
   "source": [
    "#### 4. 10 lowest-ranked countries in terms of number of GA and FA-quality articles as a proportion of all articles about politicians from that country"
   ]
  },
  {
   "cell_type": "code",
   "execution_count": 23,
   "metadata": {
    "ExecuteTime": {
     "end_time": "2018-10-26T19:07:36.591987Z",
     "start_time": "2018-10-26T19:07:36.567607Z"
    }
   },
   "outputs": [
    {
     "data": {
      "text/html": [
       "<div>\n",
       "<style scoped>\n",
       "    .dataframe tbody tr th:only-of-type {\n",
       "        vertical-align: middle;\n",
       "    }\n",
       "\n",
       "    .dataframe tbody tr th {\n",
       "        vertical-align: top;\n",
       "    }\n",
       "\n",
       "    .dataframe thead th {\n",
       "        text-align: right;\n",
       "    }\n",
       "</style>\n",
       "<table border=\"1\" class=\"dataframe\">\n",
       "  <thead>\n",
       "    <tr style=\"text-align: right;\">\n",
       "      <th></th>\n",
       "      <th>country</th>\n",
       "      <th>hq_article_counts</th>\n",
       "      <th>all_article_counts</th>\n",
       "      <th>population</th>\n",
       "      <th>hq_articles_per_pop</th>\n",
       "      <th>all_articles_per_pop</th>\n",
       "    </tr>\n",
       "  </thead>\n",
       "  <tbody>\n",
       "    <tr>\n",
       "      <th>0</th>\n",
       "      <td>Ethiopia</td>\n",
       "      <td>1</td>\n",
       "      <td>105</td>\n",
       "      <td>1.075000e+08</td>\n",
       "      <td>9.302326e-09</td>\n",
       "      <td>9.767442e-07</td>\n",
       "    </tr>\n",
       "    <tr>\n",
       "      <th>1</th>\n",
       "      <td>India</td>\n",
       "      <td>14</td>\n",
       "      <td>986</td>\n",
       "      <td>1.371300e+09</td>\n",
       "      <td>1.020929e-08</td>\n",
       "      <td>7.190257e-07</td>\n",
       "    </tr>\n",
       "    <tr>\n",
       "      <th>2</th>\n",
       "      <td>Brazil</td>\n",
       "      <td>3</td>\n",
       "      <td>551</td>\n",
       "      <td>2.094000e+08</td>\n",
       "      <td>1.432665e-08</td>\n",
       "      <td>2.631328e-06</td>\n",
       "    </tr>\n",
       "    <tr>\n",
       "      <th>3</th>\n",
       "      <td>Nigeria</td>\n",
       "      <td>3</td>\n",
       "      <td>682</td>\n",
       "      <td>1.959000e+08</td>\n",
       "      <td>1.531394e-08</td>\n",
       "      <td>3.481368e-06</td>\n",
       "    </tr>\n",
       "    <tr>\n",
       "      <th>4</th>\n",
       "      <td>Tanzania</td>\n",
       "      <td>1</td>\n",
       "      <td>408</td>\n",
       "      <td>5.910000e+07</td>\n",
       "      <td>1.692047e-08</td>\n",
       "      <td>6.903553e-06</td>\n",
       "    </tr>\n",
       "    <tr>\n",
       "      <th>5</th>\n",
       "      <td>Bangladesh</td>\n",
       "      <td>3</td>\n",
       "      <td>323</td>\n",
       "      <td>1.664000e+08</td>\n",
       "      <td>1.802885e-08</td>\n",
       "      <td>1.941106e-06</td>\n",
       "    </tr>\n",
       "    <tr>\n",
       "      <th>6</th>\n",
       "      <td>China</td>\n",
       "      <td>33</td>\n",
       "      <td>1135</td>\n",
       "      <td>1.393800e+09</td>\n",
       "      <td>2.367628e-08</td>\n",
       "      <td>8.143206e-07</td>\n",
       "    </tr>\n",
       "    <tr>\n",
       "      <th>7</th>\n",
       "      <td>Sudan</td>\n",
       "      <td>1</td>\n",
       "      <td>98</td>\n",
       "      <td>4.170000e+07</td>\n",
       "      <td>2.398082e-08</td>\n",
       "      <td>2.350120e-06</td>\n",
       "    </tr>\n",
       "    <tr>\n",
       "      <th>8</th>\n",
       "      <td>Morocco</td>\n",
       "      <td>1</td>\n",
       "      <td>208</td>\n",
       "      <td>3.520000e+07</td>\n",
       "      <td>2.840909e-08</td>\n",
       "      <td>5.909091e-06</td>\n",
       "    </tr>\n",
       "    <tr>\n",
       "      <th>9</th>\n",
       "      <td>Indonesia</td>\n",
       "      <td>8</td>\n",
       "      <td>214</td>\n",
       "      <td>2.652000e+08</td>\n",
       "      <td>3.016591e-08</td>\n",
       "      <td>8.069382e-07</td>\n",
       "    </tr>\n",
       "  </tbody>\n",
       "</table>\n",
       "</div>"
      ],
      "text/plain": [
       "      country  hq_article_counts  all_article_counts    population  \\\n",
       "0    Ethiopia                  1                 105  1.075000e+08   \n",
       "1       India                 14                 986  1.371300e+09   \n",
       "2      Brazil                  3                 551  2.094000e+08   \n",
       "3     Nigeria                  3                 682  1.959000e+08   \n",
       "4    Tanzania                  1                 408  5.910000e+07   \n",
       "5  Bangladesh                  3                 323  1.664000e+08   \n",
       "6       China                 33                1135  1.393800e+09   \n",
       "7       Sudan                  1                  98  4.170000e+07   \n",
       "8     Morocco                  1                 208  3.520000e+07   \n",
       "9   Indonesia                  8                 214  2.652000e+08   \n",
       "\n",
       "   hq_articles_per_pop  all_articles_per_pop  \n",
       "0         9.302326e-09          9.767442e-07  \n",
       "1         1.020929e-08          7.190257e-07  \n",
       "2         1.432665e-08          2.631328e-06  \n",
       "3         1.531394e-08          3.481368e-06  \n",
       "4         1.692047e-08          6.903553e-06  \n",
       "5         1.802885e-08          1.941106e-06  \n",
       "6         2.367628e-08          8.143206e-07  \n",
       "7         2.398082e-08          2.350120e-06  \n",
       "8         2.840909e-08          5.909091e-06  \n",
       "9         3.016591e-08          8.069382e-07  "
      ]
     },
     "execution_count": 23,
     "metadata": {},
     "output_type": "execute_result"
    }
   ],
   "source": [
    "final_df.sort_values(\"hq_articles_per_pop\", ascending=True).head(10).reset_index().drop('index', axis=1)"
   ]
  }
 ],
 "metadata": {
  "kernelspec": {
   "display_name": "Python 3",
   "language": "python",
   "name": "python3"
  },
  "language_info": {
   "codemirror_mode": {
    "name": "ipython",
    "version": 3
   },
   "file_extension": ".py",
   "mimetype": "text/x-python",
   "name": "python",
   "nbconvert_exporter": "python",
   "pygments_lexer": "ipython3",
   "version": "3.6.4"
  }
 },
 "nbformat": 4,
 "nbformat_minor": 2
}
